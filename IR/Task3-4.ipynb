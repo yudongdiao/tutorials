{
 "cells": [
  {
   "cell_type": "markdown",
   "metadata": {},
   "source": [
    "# Robustness"
   ]
  },
  {
   "cell_type": "code",
   "execution_count": 43,
   "metadata": {},
   "outputs": [
    {
     "name": "stdout",
     "output_type": "stream",
     "text": [
      "{'origin': '206.127.88.18'}\n"
     ]
    }
   ],
   "source": [
    "url = 'https://httpbin.org/ip'\n",
    "proxies = {\n",
    "    \"http\": 'http://24.172.225.122', \n",
    "    \"https\": 'http://206.127.88.18:80'\n",
    "}\n",
    "response = requests.get(url,proxies=proxies)\n",
    "print(response.json())"
   ]
  },
  {
   "cell_type": "code",
   "execution_count": null,
   "metadata": {},
   "outputs": [],
   "source": []
  },
  {
   "cell_type": "markdown",
   "metadata": {},
   "source": [
    "# Task 4"
   ]
  },
  {
   "cell_type": "code",
   "execution_count": 33,
   "metadata": {},
   "outputs": [],
   "source": [
    "import pickle\n",
    "def save_cookie(driver, path):\n",
    "    with open(path, 'wb') as filehandler:\n",
    "        pickle.dump(driver.get_cookies(), filehandler)\n",
    "\n",
    "def load_cookie(driver, path):\n",
    "     with open(path, 'rb') as cookiesfile:\n",
    "            cookies = pickle.load(cookiesfile)\n",
    "            for cookie in cookies:\n",
    "                driver.add_cookie(cookie)"
   ]
  },
  {
   "cell_type": "markdown",
   "metadata": {},
   "source": [
    "## log in"
   ]
  },
  {
   "cell_type": "code",
   "execution_count": 40,
   "metadata": {},
   "outputs": [],
   "source": [
    "from selenium import webdriver\n",
    "from selenium.webdriver.common.keys import Keys\n",
    "import time\n",
    "\n",
    "driver = webdriver.Chrome('/Users/Admin/Desktop/chromedriver')\n",
    "driver.get(\"https://www.linkedin.com/\")\n",
    "\n",
    "log_in = driver.find_element_by_link_text('Sign in')\n",
    "log_in.click()\n",
    "\n",
    "time.sleep(1)\n",
    "username = driver.find_element_by_id('username')\n",
    "username.send_keys('xxxxxxx')\n",
    "\n",
    "time.sleep(1)\n",
    "password = driver.find_element_by_id('password')\n",
    "password.send_keys('xxxxxxx')\n",
    "\n",
    "password.submit()\n",
    "\n",
    "time.sleep(5)\n",
    "save_cookie(driver, '/Users/Admin/Desktop/cookie')\n",
    "\n",
    "driver.quit()\n",
    "\n"
   ]
  },
  {
   "cell_type": "markdown",
   "metadata": {},
   "source": [
    "## log in with cookie"
   ]
  },
  {
   "cell_type": "code",
   "execution_count": 39,
   "metadata": {},
   "outputs": [],
   "source": [
    "driver = webdriver.Chrome('/Users/Admin/Desktop/chromedriver')\n",
    "driver.get(\"https://www.linkedin.com/\")\n",
    "load_cookie(driver,'/Users/Admin/Desktop/cookie')\n",
    "driver.refresh();\n",
    "\n",
    "time.sleep(5)\n",
    "\n",
    "driver.quit()\n"
   ]
  },
  {
   "cell_type": "code",
   "execution_count": null,
   "metadata": {},
   "outputs": [],
   "source": []
  }
 ],
 "metadata": {
  "kernelspec": {
   "display_name": "Python 3",
   "language": "python",
   "name": "python3"
  },
  "language_info": {
   "codemirror_mode": {
    "name": "ipython",
    "version": 3
   },
   "file_extension": ".py",
   "mimetype": "text/x-python",
   "name": "python",
   "nbconvert_exporter": "python",
   "pygments_lexer": "ipython3",
   "version": "3.6.9"
  }
 },
 "nbformat": 4,
 "nbformat_minor": 2
}
