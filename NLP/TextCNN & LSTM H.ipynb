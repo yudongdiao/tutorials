{
 "cells": [
  {
   "cell_type": "code",
   "execution_count": 153,
   "metadata": {},
   "outputs": [],
   "source": [
    "import gensim\n",
    "from gensim.models import Word2Vec\n",
    "from gensim.models import KeyedVectors\n",
    "import matplotlib.pyplot as plt\n",
    "import json\n",
    "import pandas as pd\n",
    "\n",
    "model = KeyedVectors.load_word2vec_format(\"/home/yamato/word2vec/GoogleNews-vectors-negative300.bin\", binary=True)\n",
    "\n",
    "s = []\n",
    "t = []\n",
    "\n",
    "for line in open('/home/yamato/word2vec/News_Category_Dataset_v2.json'):\n",
    "    t.append(json.loads(line))\n",
    "    \n",
    "for l in t:\n",
    "    if l['category'] not in s:\n",
    "        s.append(l['category'])\n",
    "category_to_id = {s[i]: i for i in range(len(s))}"
   ]
  },
  {
   "cell_type": "code",
   "execution_count": 154,
   "metadata": {},
   "outputs": [
    {
     "data": {
      "text/html": [
       "<div>\n",
       "<style scoped>\n",
       "    .dataframe tbody tr th:only-of-type {\n",
       "        vertical-align: middle;\n",
       "    }\n",
       "\n",
       "    .dataframe tbody tr th {\n",
       "        vertical-align: top;\n",
       "    }\n",
       "\n",
       "    .dataframe thead th {\n",
       "        text-align: right;\n",
       "    }\n",
       "</style>\n",
       "<table border=\"1\" class=\"dataframe\">\n",
       "  <thead>\n",
       "    <tr style=\"text-align: right;\">\n",
       "      <th></th>\n",
       "      <th>authors</th>\n",
       "      <th>category</th>\n",
       "      <th>date</th>\n",
       "      <th>headline</th>\n",
       "      <th>link</th>\n",
       "      <th>short_description</th>\n",
       "    </tr>\n",
       "  </thead>\n",
       "  <tbody>\n",
       "    <tr>\n",
       "      <th>0</th>\n",
       "      <td>Melissa Jeltsen</td>\n",
       "      <td>CRIME</td>\n",
       "      <td>2018-05-26</td>\n",
       "      <td>There Were 2 Mass Shootings In Texas Last Week...</td>\n",
       "      <td>https://www.huffingtonpost.com/entry/texas-ama...</td>\n",
       "      <td>She left her husband. He killed their children...</td>\n",
       "    </tr>\n",
       "    <tr>\n",
       "      <th>1</th>\n",
       "      <td>Andy McDonald</td>\n",
       "      <td>ENTERTAINMENT</td>\n",
       "      <td>2018-05-26</td>\n",
       "      <td>Will Smith Joins Diplo And Nicky Jam For The 2...</td>\n",
       "      <td>https://www.huffingtonpost.com/entry/will-smit...</td>\n",
       "      <td>Of course it has a song.</td>\n",
       "    </tr>\n",
       "    <tr>\n",
       "      <th>2</th>\n",
       "      <td>Ron Dicker</td>\n",
       "      <td>ENTERTAINMENT</td>\n",
       "      <td>2018-05-26</td>\n",
       "      <td>Hugh Grant Marries For The First Time At Age 57</td>\n",
       "      <td>https://www.huffingtonpost.com/entry/hugh-gran...</td>\n",
       "      <td>The actor and his longtime girlfriend Anna Ebe...</td>\n",
       "    </tr>\n",
       "    <tr>\n",
       "      <th>3</th>\n",
       "      <td>Ron Dicker</td>\n",
       "      <td>ENTERTAINMENT</td>\n",
       "      <td>2018-05-26</td>\n",
       "      <td>Jim Carrey Blasts 'Castrato' Adam Schiff And D...</td>\n",
       "      <td>https://www.huffingtonpost.com/entry/jim-carre...</td>\n",
       "      <td>The actor gives Dems an ass-kicking for not fi...</td>\n",
       "    </tr>\n",
       "    <tr>\n",
       "      <th>4</th>\n",
       "      <td>Ron Dicker</td>\n",
       "      <td>ENTERTAINMENT</td>\n",
       "      <td>2018-05-26</td>\n",
       "      <td>Julianna Margulies Uses Donald Trump Poop Bags...</td>\n",
       "      <td>https://www.huffingtonpost.com/entry/julianna-...</td>\n",
       "      <td>The \"Dietland\" actress said using the bags is ...</td>\n",
       "    </tr>\n",
       "  </tbody>\n",
       "</table>\n",
       "</div>"
      ],
      "text/plain": [
       "           authors       category       date  \\\n",
       "0  Melissa Jeltsen          CRIME 2018-05-26   \n",
       "1    Andy McDonald  ENTERTAINMENT 2018-05-26   \n",
       "2       Ron Dicker  ENTERTAINMENT 2018-05-26   \n",
       "3       Ron Dicker  ENTERTAINMENT 2018-05-26   \n",
       "4       Ron Dicker  ENTERTAINMENT 2018-05-26   \n",
       "\n",
       "                                            headline  \\\n",
       "0  There Were 2 Mass Shootings In Texas Last Week...   \n",
       "1  Will Smith Joins Diplo And Nicky Jam For The 2...   \n",
       "2    Hugh Grant Marries For The First Time At Age 57   \n",
       "3  Jim Carrey Blasts 'Castrato' Adam Schiff And D...   \n",
       "4  Julianna Margulies Uses Donald Trump Poop Bags...   \n",
       "\n",
       "                                                link  \\\n",
       "0  https://www.huffingtonpost.com/entry/texas-ama...   \n",
       "1  https://www.huffingtonpost.com/entry/will-smit...   \n",
       "2  https://www.huffingtonpost.com/entry/hugh-gran...   \n",
       "3  https://www.huffingtonpost.com/entry/jim-carre...   \n",
       "4  https://www.huffingtonpost.com/entry/julianna-...   \n",
       "\n",
       "                                   short_description  \n",
       "0  She left her husband. He killed their children...  \n",
       "1                           Of course it has a song.  \n",
       "2  The actor and his longtime girlfriend Anna Ebe...  \n",
       "3  The actor gives Dems an ass-kicking for not fi...  \n",
       "4  The \"Dietland\" actress said using the bags is ...  "
      ]
     },
     "execution_count": 154,
     "metadata": {},
     "output_type": "execute_result"
    }
   ],
   "source": [
    "df = pd.read_json('/home/yamato/word2vec/News_Category_Dataset_v2.json', lines=True)\n",
    "df.head()"
   ]
  },
  {
   "cell_type": "code",
   "execution_count": 155,
   "metadata": {},
   "outputs": [],
   "source": [
    "from keras.preprocessing.text import Tokenizer, text_to_word_sequence\n",
    "# using headlines and short_description as input X\n",
    "\n",
    "df['text'] = df.headline"
   ]
  },
  {
   "cell_type": "code",
   "execution_count": 156,
   "metadata": {},
   "outputs": [
    {
     "data": {
      "text/html": [
       "<div>\n",
       "<style scoped>\n",
       "    .dataframe tbody tr th:only-of-type {\n",
       "        vertical-align: middle;\n",
       "    }\n",
       "\n",
       "    .dataframe tbody tr th {\n",
       "        vertical-align: top;\n",
       "    }\n",
       "\n",
       "    .dataframe thead th {\n",
       "        text-align: right;\n",
       "    }\n",
       "</style>\n",
       "<table border=\"1\" class=\"dataframe\">\n",
       "  <thead>\n",
       "    <tr style=\"text-align: right;\">\n",
       "      <th></th>\n",
       "      <th>authors</th>\n",
       "      <th>category</th>\n",
       "      <th>date</th>\n",
       "      <th>headline</th>\n",
       "      <th>link</th>\n",
       "      <th>short_description</th>\n",
       "      <th>text</th>\n",
       "      <th>words</th>\n",
       "      <th>word_length</th>\n",
       "    </tr>\n",
       "  </thead>\n",
       "  <tbody>\n",
       "    <tr>\n",
       "      <th>0</th>\n",
       "      <td>Melissa Jeltsen</td>\n",
       "      <td>CRIME</td>\n",
       "      <td>2018-05-26</td>\n",
       "      <td>There Were 2 Mass Shootings In Texas Last Week...</td>\n",
       "      <td>https://www.huffingtonpost.com/entry/texas-ama...</td>\n",
       "      <td>She left her husband. He killed their children...</td>\n",
       "      <td>There Were 2 Mass Shootings In Texas Last Week...</td>\n",
       "      <td>[378, 360, 154, 1085, 2318, 5, 396, 240, 77, 8...</td>\n",
       "      <td>14</td>\n",
       "    </tr>\n",
       "    <tr>\n",
       "      <th>1</th>\n",
       "      <td>Andy McDonald</td>\n",
       "      <td>ENTERTAINMENT</td>\n",
       "      <td>2018-05-26</td>\n",
       "      <td>Will Smith Joins Diplo And Nicky Jam For The 2...</td>\n",
       "      <td>https://www.huffingtonpost.com/entry/will-smit...</td>\n",
       "      <td>Of course it has a song.</td>\n",
       "      <td>Will Smith Joins Diplo And Nicky Jam For The 2...</td>\n",
       "      <td>[34, 1039, 1682, 19857, 7, 16617, 4176, 6, 1, ...</td>\n",
       "      <td>14</td>\n",
       "    </tr>\n",
       "    <tr>\n",
       "      <th>2</th>\n",
       "      <td>Ron Dicker</td>\n",
       "      <td>ENTERTAINMENT</td>\n",
       "      <td>2018-05-26</td>\n",
       "      <td>Hugh Grant Marries For The First Time At Age 57</td>\n",
       "      <td>https://www.huffingtonpost.com/entry/hugh-gran...</td>\n",
       "      <td>The actor and his longtime girlfriend Anna Ebe...</td>\n",
       "      <td>Hugh Grant Marries For The First Time At Age 57</td>\n",
       "      <td>[3779, 5820, 4600, 6, 1, 65, 71, 16, 463, 8506]</td>\n",
       "      <td>10</td>\n",
       "    </tr>\n",
       "    <tr>\n",
       "      <th>3</th>\n",
       "      <td>Ron Dicker</td>\n",
       "      <td>ENTERTAINMENT</td>\n",
       "      <td>2018-05-26</td>\n",
       "      <td>Jim Carrey Blasts 'Castrato' Adam Schiff And D...</td>\n",
       "      <td>https://www.huffingtonpost.com/entry/jim-carre...</td>\n",
       "      <td>The actor gives Dems an ass-kicking for not fi...</td>\n",
       "      <td>Jim Carrey Blasts 'Castrato' Adam Schiff And D...</td>\n",
       "      <td>[2061, 7974, 1867, 40763, 1568, 12108, 7, 308,...</td>\n",
       "      <td>11</td>\n",
       "    </tr>\n",
       "    <tr>\n",
       "      <th>4</th>\n",
       "      <td>Ron Dicker</td>\n",
       "      <td>ENTERTAINMENT</td>\n",
       "      <td>2018-05-26</td>\n",
       "      <td>Julianna Margulies Uses Donald Trump Poop Bags...</td>\n",
       "      <td>https://www.huffingtonpost.com/entry/julianna-...</td>\n",
       "      <td>The \"Dietland\" actress said using the bags is ...</td>\n",
       "      <td>Julianna Margulies Uses Donald Trump Poop Bags...</td>\n",
       "      <td>[30772, 25572, 833, 30, 14, 5432, 2986, 2, 859...</td>\n",
       "      <td>13</td>\n",
       "    </tr>\n",
       "  </tbody>\n",
       "</table>\n",
       "</div>"
      ],
      "text/plain": [
       "           authors       category       date  \\\n",
       "0  Melissa Jeltsen          CRIME 2018-05-26   \n",
       "1    Andy McDonald  ENTERTAINMENT 2018-05-26   \n",
       "2       Ron Dicker  ENTERTAINMENT 2018-05-26   \n",
       "3       Ron Dicker  ENTERTAINMENT 2018-05-26   \n",
       "4       Ron Dicker  ENTERTAINMENT 2018-05-26   \n",
       "\n",
       "                                            headline  \\\n",
       "0  There Were 2 Mass Shootings In Texas Last Week...   \n",
       "1  Will Smith Joins Diplo And Nicky Jam For The 2...   \n",
       "2    Hugh Grant Marries For The First Time At Age 57   \n",
       "3  Jim Carrey Blasts 'Castrato' Adam Schiff And D...   \n",
       "4  Julianna Margulies Uses Donald Trump Poop Bags...   \n",
       "\n",
       "                                                link  \\\n",
       "0  https://www.huffingtonpost.com/entry/texas-ama...   \n",
       "1  https://www.huffingtonpost.com/entry/will-smit...   \n",
       "2  https://www.huffingtonpost.com/entry/hugh-gran...   \n",
       "3  https://www.huffingtonpost.com/entry/jim-carre...   \n",
       "4  https://www.huffingtonpost.com/entry/julianna-...   \n",
       "\n",
       "                                   short_description  \\\n",
       "0  She left her husband. He killed their children...   \n",
       "1                           Of course it has a song.   \n",
       "2  The actor and his longtime girlfriend Anna Ebe...   \n",
       "3  The actor gives Dems an ass-kicking for not fi...   \n",
       "4  The \"Dietland\" actress said using the bags is ...   \n",
       "\n",
       "                                                text  \\\n",
       "0  There Were 2 Mass Shootings In Texas Last Week...   \n",
       "1  Will Smith Joins Diplo And Nicky Jam For The 2...   \n",
       "2    Hugh Grant Marries For The First Time At Age 57   \n",
       "3  Jim Carrey Blasts 'Castrato' Adam Schiff And D...   \n",
       "4  Julianna Margulies Uses Donald Trump Poop Bags...   \n",
       "\n",
       "                                               words  word_length  \n",
       "0  [378, 360, 154, 1085, 2318, 5, 396, 240, 77, 8...           14  \n",
       "1  [34, 1039, 1682, 19857, 7, 16617, 4176, 6, 1, ...           14  \n",
       "2    [3779, 5820, 4600, 6, 1, 65, 71, 16, 463, 8506]           10  \n",
       "3  [2061, 7974, 1867, 40763, 1568, 12108, 7, 308,...           11  \n",
       "4  [30772, 25572, 833, 30, 14, 5432, 2986, 2, 859...           13  "
      ]
     },
     "execution_count": 156,
     "metadata": {},
     "output_type": "execute_result"
    }
   ],
   "source": [
    "# tokenizing\n",
    "\n",
    "tokenizer = Tokenizer()\n",
    "tokenizer.fit_on_texts(df.text)\n",
    "X = tokenizer.texts_to_sequences(df.text)\n",
    "df['words'] = X\n",
    "\n",
    "# delete some empty and short data\n",
    "\n",
    "df['word_length'] = df.words.apply(lambda i: len(i))\n",
    "df = df[df.word_length >= 5]\n",
    "\n",
    "df.head()"
   ]
  },
  {
   "cell_type": "code",
   "execution_count": 157,
   "metadata": {},
   "outputs": [
    {
     "data": {
      "text/plain": [
       "count    190255.000000\n",
       "mean         10.028199\n",
       "std           2.824546\n",
       "min           5.000000\n",
       "25%           8.000000\n",
       "50%          10.000000\n",
       "75%          12.000000\n",
       "max          53.000000\n",
       "Name: word_length, dtype: float64"
      ]
     },
     "execution_count": 157,
     "metadata": {},
     "output_type": "execute_result"
    }
   ],
   "source": [
    "df.word_length.describe()"
   ]
  },
  {
   "cell_type": "code",
   "execution_count": 158,
   "metadata": {},
   "outputs": [],
   "source": [
    "from keras.preprocessing import sequence\n",
    "maxlen = 15\n",
    "X = list(sequence.pad_sequences(df.words, maxlen=maxlen))"
   ]
  },
  {
   "cell_type": "code",
   "execution_count": 159,
   "metadata": {},
   "outputs": [],
   "source": [
    "df['c2id'] = df['category'].apply(lambda x: category_to_id[x])"
   ]
  },
  {
   "cell_type": "code",
   "execution_count": 160,
   "metadata": {},
   "outputs": [
    {
     "data": {
      "text/html": [
       "<div>\n",
       "<style scoped>\n",
       "    .dataframe tbody tr th:only-of-type {\n",
       "        vertical-align: middle;\n",
       "    }\n",
       "\n",
       "    .dataframe tbody tr th {\n",
       "        vertical-align: top;\n",
       "    }\n",
       "\n",
       "    .dataframe thead th {\n",
       "        text-align: right;\n",
       "    }\n",
       "</style>\n",
       "<table border=\"1\" class=\"dataframe\">\n",
       "  <thead>\n",
       "    <tr style=\"text-align: right;\">\n",
       "      <th></th>\n",
       "      <th>authors</th>\n",
       "      <th>category</th>\n",
       "      <th>date</th>\n",
       "      <th>headline</th>\n",
       "      <th>link</th>\n",
       "      <th>short_description</th>\n",
       "      <th>text</th>\n",
       "      <th>words</th>\n",
       "      <th>word_length</th>\n",
       "      <th>c2id</th>\n",
       "    </tr>\n",
       "  </thead>\n",
       "  <tbody>\n",
       "    <tr>\n",
       "      <th>0</th>\n",
       "      <td>Melissa Jeltsen</td>\n",
       "      <td>CRIME</td>\n",
       "      <td>2018-05-26</td>\n",
       "      <td>There Were 2 Mass Shootings In Texas Last Week...</td>\n",
       "      <td>https://www.huffingtonpost.com/entry/texas-ama...</td>\n",
       "      <td>She left her husband. He killed their children...</td>\n",
       "      <td>There Were 2 Mass Shootings In Texas Last Week...</td>\n",
       "      <td>[378, 360, 154, 1085, 2318, 5, 396, 240, 77, 8...</td>\n",
       "      <td>14</td>\n",
       "      <td>0</td>\n",
       "    </tr>\n",
       "    <tr>\n",
       "      <th>1</th>\n",
       "      <td>Andy McDonald</td>\n",
       "      <td>ENTERTAINMENT</td>\n",
       "      <td>2018-05-26</td>\n",
       "      <td>Will Smith Joins Diplo And Nicky Jam For The 2...</td>\n",
       "      <td>https://www.huffingtonpost.com/entry/will-smit...</td>\n",
       "      <td>Of course it has a song.</td>\n",
       "      <td>Will Smith Joins Diplo And Nicky Jam For The 2...</td>\n",
       "      <td>[34, 1039, 1682, 19857, 7, 16617, 4176, 6, 1, ...</td>\n",
       "      <td>14</td>\n",
       "      <td>1</td>\n",
       "    </tr>\n",
       "    <tr>\n",
       "      <th>2</th>\n",
       "      <td>Ron Dicker</td>\n",
       "      <td>ENTERTAINMENT</td>\n",
       "      <td>2018-05-26</td>\n",
       "      <td>Hugh Grant Marries For The First Time At Age 57</td>\n",
       "      <td>https://www.huffingtonpost.com/entry/hugh-gran...</td>\n",
       "      <td>The actor and his longtime girlfriend Anna Ebe...</td>\n",
       "      <td>Hugh Grant Marries For The First Time At Age 57</td>\n",
       "      <td>[3779, 5820, 4600, 6, 1, 65, 71, 16, 463, 8506]</td>\n",
       "      <td>10</td>\n",
       "      <td>1</td>\n",
       "    </tr>\n",
       "    <tr>\n",
       "      <th>3</th>\n",
       "      <td>Ron Dicker</td>\n",
       "      <td>ENTERTAINMENT</td>\n",
       "      <td>2018-05-26</td>\n",
       "      <td>Jim Carrey Blasts 'Castrato' Adam Schiff And D...</td>\n",
       "      <td>https://www.huffingtonpost.com/entry/jim-carre...</td>\n",
       "      <td>The actor gives Dems an ass-kicking for not fi...</td>\n",
       "      <td>Jim Carrey Blasts 'Castrato' Adam Schiff And D...</td>\n",
       "      <td>[2061, 7974, 1867, 40763, 1568, 12108, 7, 308,...</td>\n",
       "      <td>11</td>\n",
       "      <td>1</td>\n",
       "    </tr>\n",
       "    <tr>\n",
       "      <th>4</th>\n",
       "      <td>Ron Dicker</td>\n",
       "      <td>ENTERTAINMENT</td>\n",
       "      <td>2018-05-26</td>\n",
       "      <td>Julianna Margulies Uses Donald Trump Poop Bags...</td>\n",
       "      <td>https://www.huffingtonpost.com/entry/julianna-...</td>\n",
       "      <td>The \"Dietland\" actress said using the bags is ...</td>\n",
       "      <td>Julianna Margulies Uses Donald Trump Poop Bags...</td>\n",
       "      <td>[30772, 25572, 833, 30, 14, 5432, 2986, 2, 859...</td>\n",
       "      <td>13</td>\n",
       "      <td>1</td>\n",
       "    </tr>\n",
       "  </tbody>\n",
       "</table>\n",
       "</div>"
      ],
      "text/plain": [
       "           authors       category       date  \\\n",
       "0  Melissa Jeltsen          CRIME 2018-05-26   \n",
       "1    Andy McDonald  ENTERTAINMENT 2018-05-26   \n",
       "2       Ron Dicker  ENTERTAINMENT 2018-05-26   \n",
       "3       Ron Dicker  ENTERTAINMENT 2018-05-26   \n",
       "4       Ron Dicker  ENTERTAINMENT 2018-05-26   \n",
       "\n",
       "                                            headline  \\\n",
       "0  There Were 2 Mass Shootings In Texas Last Week...   \n",
       "1  Will Smith Joins Diplo And Nicky Jam For The 2...   \n",
       "2    Hugh Grant Marries For The First Time At Age 57   \n",
       "3  Jim Carrey Blasts 'Castrato' Adam Schiff And D...   \n",
       "4  Julianna Margulies Uses Donald Trump Poop Bags...   \n",
       "\n",
       "                                                link  \\\n",
       "0  https://www.huffingtonpost.com/entry/texas-ama...   \n",
       "1  https://www.huffingtonpost.com/entry/will-smit...   \n",
       "2  https://www.huffingtonpost.com/entry/hugh-gran...   \n",
       "3  https://www.huffingtonpost.com/entry/jim-carre...   \n",
       "4  https://www.huffingtonpost.com/entry/julianna-...   \n",
       "\n",
       "                                   short_description  \\\n",
       "0  She left her husband. He killed their children...   \n",
       "1                           Of course it has a song.   \n",
       "2  The actor and his longtime girlfriend Anna Ebe...   \n",
       "3  The actor gives Dems an ass-kicking for not fi...   \n",
       "4  The \"Dietland\" actress said using the bags is ...   \n",
       "\n",
       "                                                text  \\\n",
       "0  There Were 2 Mass Shootings In Texas Last Week...   \n",
       "1  Will Smith Joins Diplo And Nicky Jam For The 2...   \n",
       "2    Hugh Grant Marries For The First Time At Age 57   \n",
       "3  Jim Carrey Blasts 'Castrato' Adam Schiff And D...   \n",
       "4  Julianna Margulies Uses Donald Trump Poop Bags...   \n",
       "\n",
       "                                               words  word_length  c2id  \n",
       "0  [378, 360, 154, 1085, 2318, 5, 396, 240, 77, 8...           14     0  \n",
       "1  [34, 1039, 1682, 19857, 7, 16617, 4176, 6, 1, ...           14     1  \n",
       "2    [3779, 5820, 4600, 6, 1, 65, 71, 16, 463, 8506]           10     1  \n",
       "3  [2061, 7974, 1867, 40763, 1568, 12108, 7, 308,...           11     1  \n",
       "4  [30772, 25572, 833, 30, 14, 5432, 2986, 2, 859...           13     1  "
      ]
     },
     "execution_count": 160,
     "metadata": {},
     "output_type": "execute_result"
    }
   ],
   "source": [
    "df.head()"
   ]
  },
  {
   "cell_type": "markdown",
   "metadata": {},
   "source": [
    "# Word Embedding"
   ]
  },
  {
   "cell_type": "code",
   "execution_count": 161,
   "metadata": {},
   "outputs": [],
   "source": [
    "word_index = tokenizer.word_index\n",
    "\n",
    "EMBEDDING_DIM = 300"
   ]
  },
  {
   "cell_type": "code",
   "execution_count": 162,
   "metadata": {},
   "outputs": [
    {
     "name": "stderr",
     "output_type": "stream",
     "text": [
      "/home/yamato/anaconda3/lib/python3.7/site-packages/ipykernel_launcher.py:2: DeprecationWarning: Call to deprecated `wv` (Attribute will be removed in 4.0.0, use self instead).\n",
      "  \n",
      "/home/yamato/anaconda3/lib/python3.7/site-packages/ipykernel_launcher.py:3: DeprecationWarning: Call to deprecated `wv` (Attribute will be removed in 4.0.0, use self instead).\n",
      "  This is separate from the ipykernel package so we can avoid doing imports until\n"
     ]
    }
   ],
   "source": [
    "embedding_index = dict({})\n",
    "for idx, key in enumerate(model.wv.vocab):\n",
    "    embedding_index[key] = model.wv[key]\n",
    "    # Or my_dict[key] = model.wv.get_vector(key)\n",
    "    # Or my_dict[key] = model.wv.word_vec(key, use_norm=False)"
   ]
  },
  {
   "cell_type": "code",
   "execution_count": 163,
   "metadata": {},
   "outputs": [
    {
     "name": "stdout",
     "output_type": "stream",
     "text": [
      "Found 75639 unique tokens.\n",
      "Total 3000000 word vectors.\n"
     ]
    }
   ],
   "source": [
    "print('Found %s unique tokens.' % len(word_index))\n",
    "print('Total %s word vectors.' % len(embedding_index))"
   ]
  },
  {
   "cell_type": "markdown",
   "metadata": {},
   "source": [
    "# Text CNN"
   ]
  },
  {
   "cell_type": "code",
   "execution_count": 164,
   "metadata": {},
   "outputs": [],
   "source": [
    "import numpy as np\n",
    "from keras import initializers, regularizers, constraints\n",
    "\n",
    "from keras.layers import Dense, Input, LSTM, Bidirectional, Activation, Conv1D, GRU, TimeDistributed\n",
    "from keras.layers import Dropout, Embedding, GlobalMaxPooling1D, MaxPooling1D, Add, Flatten, SpatialDropout1D\n",
    "from keras.layers import GlobalAveragePooling1D, BatchNormalization, concatenate\n",
    "from keras.layers import Reshape, merge, Concatenate, Lambda, Average\n",
    "from keras.models import Sequential, Model, load_model\n",
    "from keras.callbacks import ModelCheckpoint\n",
    "from keras.initializers import Constant\n",
    "from keras.layers.merge import add\n",
    "\n",
    "embedding_matrix = np.zeros((len(word_index) + 1, EMBEDDING_DIM))\n",
    "for word, i in word_index.items():\n",
    "    embedding_vector = embedding_index.get(word)\n",
    "    if embedding_vector is not None:\n",
    "        embedding_matrix[i] = embedding_vector\n",
    "\n",
    "embedding_layer = Embedding(len(word_index)+1,\n",
    "                            EMBEDDING_DIM,\n",
    "                            embeddings_initializer=Constant(embedding_matrix),\n",
    "                            input_length=maxlen,\n",
    "                            trainable=False)"
   ]
  },
  {
   "cell_type": "code",
   "execution_count": 165,
   "metadata": {},
   "outputs": [],
   "source": [
    "# prepared data \n",
    "from keras.utils import np_utils\n",
    "from sklearn.model_selection import train_test_split\n",
    "\n",
    "X = np.array(X)\n",
    "Y = np_utils.to_categorical(list(df.c2id))\n",
    "\n",
    "# and split to training set ,validation set and test set\n",
    "\n",
    "seed = 30\n",
    "x_train, x_test, y_train, y_test = train_test_split(X, Y, test_size=0.1, random_state=seed)\n",
    "x_train, x_val, y_train, y_val = train_test_split(x_train, y_train, test_size=0.1, random_state=seed)"
   ]
  },
  {
   "cell_type": "code",
   "execution_count": 166,
   "metadata": {},
   "outputs": [
    {
     "name": "stdout",
     "output_type": "stream",
     "text": [
      "Model: \"model_8\"\n",
      "__________________________________________________________________________________________________\n",
      "Layer (type)                    Output Shape         Param #     Connected to                     \n",
      "==================================================================================================\n",
      "input_19 (InputLayer)           [(None, 15)]         0                                            \n",
      "__________________________________________________________________________________________________\n",
      "embedding_8 (Embedding)         (None, 15, 300)      22692000    input_19[0][0]                   \n",
      "__________________________________________________________________________________________________\n",
      "conv1d_18 (Conv1D)              (None, 15, 64)       38464       embedding_8[0][0]                \n",
      "__________________________________________________________________________________________________\n",
      "conv1d_19 (Conv1D)              (None, 15, 64)       57664       embedding_8[0][0]                \n",
      "__________________________________________________________________________________________________\n",
      "conv1d_20 (Conv1D)              (None, 15, 64)       76864       embedding_8[0][0]                \n",
      "__________________________________________________________________________________________________\n",
      "max_pooling1d_18 (MaxPooling1D) (None, 5, 64)        0           conv1d_18[0][0]                  \n",
      "__________________________________________________________________________________________________\n",
      "max_pooling1d_19 (MaxPooling1D) (None, 5, 64)        0           conv1d_19[0][0]                  \n",
      "__________________________________________________________________________________________________\n",
      "max_pooling1d_20 (MaxPooling1D) (None, 5, 64)        0           conv1d_20[0][0]                  \n",
      "__________________________________________________________________________________________________\n",
      "dropout_25 (Dropout)            (None, 5, 64)        0           max_pooling1d_18[0][0]           \n",
      "__________________________________________________________________________________________________\n",
      "dropout_26 (Dropout)            (None, 5, 64)        0           max_pooling1d_19[0][0]           \n",
      "__________________________________________________________________________________________________\n",
      "dropout_27 (Dropout)            (None, 5, 64)        0           max_pooling1d_20[0][0]           \n",
      "__________________________________________________________________________________________________\n",
      "concatenate_6 (Concatenate)     (None, 5, 192)       0           dropout_25[0][0]                 \n",
      "                                                                 dropout_26[0][0]                 \n",
      "                                                                 dropout_27[0][0]                 \n",
      "__________________________________________________________________________________________________\n",
      "flatten_6 (Flatten)             (None, 960)          0           concatenate_6[0][0]              \n",
      "__________________________________________________________________________________________________\n",
      "dropout_28 (Dropout)            (None, 960)          0           flatten_6[0][0]                  \n",
      "__________________________________________________________________________________________________\n",
      "dense_27 (Dense)                (None, 41)           39401       dropout_28[0][0]                 \n",
      "==================================================================================================\n",
      "Total params: 22,904,393\n",
      "Trainable params: 212,393\n",
      "Non-trainable params: 22,692,000\n",
      "__________________________________________________________________________________________________\n"
     ]
    }
   ],
   "source": [
    "inp = Input(shape=(maxlen,), dtype='int32')\n",
    "embedding = embedding_layer(inp)\n",
    "stacks = []\n",
    "for kernel_size in [2, 3, 4]:\n",
    "    conv = Conv1D(64, kernel_size, padding='same', activation='relu', strides=1)(embedding)\n",
    "    pool = MaxPooling1D(pool_size=3)(conv)\n",
    "    drop = Dropout(0.5)(pool)\n",
    "    stacks.append(drop)\n",
    "\n",
    "merged = Concatenate()(stacks)\n",
    "flatten = Flatten()(merged)\n",
    "drop = Dropout(0.5)(flatten)\n",
    "outp = Dense(len(category_to_id), activation='softmax')(drop)\n",
    "\n",
    "TextCNN = Model(inputs=inp, outputs=outp)\n",
    "TextCNN.compile(loss='categorical_crossentropy', optimizer='adam', metrics=['accuracy'])\n",
    "\n",
    "TextCNN.summary()"
   ]
  },
  {
   "cell_type": "code",
   "execution_count": 167,
   "metadata": {},
   "outputs": [
    {
     "name": "stdout",
     "output_type": "stream",
     "text": [
      "Epoch 1/20\n",
      "1204/1204 [==============================] - 12s 10ms/step - loss: 2.2919 - accuracy: 0.4045 - val_loss: 1.8033 - val_accuracy: 0.5021\n",
      "Epoch 2/20\n",
      "1204/1204 [==============================] - 12s 10ms/step - loss: 1.9096 - accuracy: 0.4830 - val_loss: 1.6960 - val_accuracy: 0.5293\n",
      "Epoch 3/20\n",
      "1204/1204 [==============================] - 12s 10ms/step - loss: 1.8388 - accuracy: 0.5000 - val_loss: 1.6492 - val_accuracy: 0.5416\n",
      "Epoch 4/20\n",
      "1204/1204 [==============================] - 12s 10ms/step - loss: 1.7980 - accuracy: 0.5086 - val_loss: 1.6262 - val_accuracy: 0.5461\n",
      "Epoch 5/20\n",
      "1204/1204 [==============================] - 12s 10ms/step - loss: 1.7741 - accuracy: 0.5139 - val_loss: 1.6103 - val_accuracy: 0.5496\n",
      "Epoch 6/20\n",
      "1204/1204 [==============================] - 11s 10ms/step - loss: 1.7522 - accuracy: 0.5190 - val_loss: 1.5958 - val_accuracy: 0.5536\n",
      "Epoch 7/20\n",
      "1204/1204 [==============================] - 12s 10ms/step - loss: 1.7368 - accuracy: 0.5235 - val_loss: 1.5878 - val_accuracy: 0.5574\n",
      "Epoch 8/20\n",
      "1204/1204 [==============================] - 12s 10ms/step - loss: 1.7213 - accuracy: 0.5257 - val_loss: 1.5802 - val_accuracy: 0.5569\n",
      "Epoch 9/20\n",
      "1204/1204 [==============================] - 11s 9ms/step - loss: 1.7089 - accuracy: 0.5282 - val_loss: 1.5767 - val_accuracy: 0.5591\n",
      "Epoch 10/20\n",
      "1204/1204 [==============================] - 11s 10ms/step - loss: 1.7007 - accuracy: 0.5298 - val_loss: 1.5637 - val_accuracy: 0.5631\n",
      "Epoch 11/20\n",
      "1204/1204 [==============================] - 11s 10ms/step - loss: 1.6922 - accuracy: 0.5310 - val_loss: 1.5659 - val_accuracy: 0.5599\n",
      "Epoch 12/20\n",
      "1204/1204 [==============================] - 12s 10ms/step - loss: 1.6823 - accuracy: 0.5332 - val_loss: 1.5669 - val_accuracy: 0.5601\n",
      "Epoch 13/20\n",
      "1204/1204 [==============================] - 11s 10ms/step - loss: 1.6756 - accuracy: 0.5347 - val_loss: 1.5586 - val_accuracy: 0.5647\n",
      "Epoch 14/20\n",
      "1204/1204 [==============================] - 12s 10ms/step - loss: 1.6720 - accuracy: 0.5375 - val_loss: 1.5561 - val_accuracy: 0.5646\n",
      "Epoch 15/20\n",
      "1204/1204 [==============================] - 11s 10ms/step - loss: 1.6662 - accuracy: 0.5366 - val_loss: 1.5555 - val_accuracy: 0.5646\n",
      "Epoch 16/20\n",
      "1204/1204 [==============================] - 12s 10ms/step - loss: 1.6583 - accuracy: 0.5387 - val_loss: 1.5489 - val_accuracy: 0.5662\n",
      "Epoch 17/20\n",
      "1204/1204 [==============================] - 11s 9ms/step - loss: 1.6547 - accuracy: 0.5401 - val_loss: 1.5500 - val_accuracy: 0.5664\n",
      "Epoch 18/20\n",
      "1204/1204 [==============================] - 11s 9ms/step - loss: 1.6496 - accuracy: 0.5409 - val_loss: 1.5486 - val_accuracy: 0.5671\n",
      "Epoch 19/20\n",
      "1204/1204 [==============================] - 11s 10ms/step - loss: 1.6462 - accuracy: 0.5411 - val_loss: 1.5455 - val_accuracy: 0.5687\n",
      "Epoch 20/20\n",
      "1204/1204 [==============================] - 12s 10ms/step - loss: 1.6379 - accuracy: 0.5428 - val_loss: 1.5425 - val_accuracy: 0.5693\n"
     ]
    }
   ],
   "source": [
    "textcnn_history = TextCNN.fit(x_train, \n",
    "                              y_train, \n",
    "                              batch_size=128, \n",
    "                              epochs=20, \n",
    "                              validation_data=(x_val, y_val))"
   ]
  },
  {
   "cell_type": "code",
   "execution_count": 168,
   "metadata": {},
   "outputs": [
    {
     "data": {
      "image/png": "[encoded data removed]",
      "text/plain": [
       "<Figure size 432x288 with 1 Axes>"
      ]
     },
     "metadata": {
      "needs_background": "light"
     },
     "output_type": "display_data"
    },
    {
     "data": {
      "image/png": "[encoded data removed]",
      "text/plain": [
       "<Figure size 432x288 with 1 Axes>"
      ]
     },
     "metadata": {
      "needs_background": "light"
     },
     "output_type": "display_data"
    }
   ],
   "source": [
    "import matplotlib.pyplot as plt\n",
    "acc = textcnn_history.history['accuracy']\n",
    "val_acc = textcnn_history.history['val_accuracy']\n",
    "loss = textcnn_history.history['loss']\n",
    "val_loss = textcnn_history.history['val_loss']\n",
    "epochs = range(1, len(acc) + 1)\n",
    "\n",
    "plt.title('Training and validation accuracy')\n",
    "plt.plot(epochs, acc, 'red', label='Training acc')\n",
    "plt.plot(epochs, val_acc, 'blue', label='Validation acc')\n",
    "plt.legend()\n",
    "\n",
    "plt.figure()\n",
    "plt.title('Training and validation loss')\n",
    "plt.plot(epochs, loss, 'red', label='Training loss')\n",
    "plt.plot(epochs, val_loss, 'blue', label='Validation loss')\n",
    "plt.legend()\n",
    "\n",
    "plt.show()"
   ]
  },
  {
   "cell_type": "code",
   "execution_count": 169,
   "metadata": {},
   "outputs": [
    {
     "name": "stdout",
     "output_type": "stream",
     "text": [
      "149/149 [==============================] - 0s 3ms/step - loss: 1.5484 - accuracy: 0.5661\n"
     ]
    }
   ],
   "source": [
    "acc = TextCNN.evaluate(x_test, y_test,batch_size=128)"
   ]
  },
  {
   "cell_type": "markdown",
   "metadata": {},
   "source": [
    "# LSTM"
   ]
  },
  {
   "cell_type": "code",
   "execution_count": 170,
   "metadata": {},
   "outputs": [
    {
     "name": "stdout",
     "output_type": "stream",
     "text": [
      "Model: \"model_9\"\n",
      "_________________________________________________________________\n",
      "Layer (type)                 Output Shape              Param #   \n",
      "=================================================================\n",
      "input_20 (InputLayer)        [(None, 15)]              0         \n",
      "_________________________________________________________________\n",
      "embedding_8 (Embedding)      (None, 15, 300)           22692000  \n",
      "_________________________________________________________________\n",
      "bidirectional_10 (Bidirectio (None, 64)                85248     \n",
      "_________________________________________________________________\n",
      "dense_28 (Dense)             (None, 256)               16640     \n",
      "_________________________________________________________________\n",
      "dense_29 (Dense)             (None, 41)                10537     \n",
      "=================================================================\n",
      "Total params: 22,804,425\n",
      "Trainable params: 112,425\n",
      "Non-trainable params: 22,692,000\n",
      "_________________________________________________________________\n"
     ]
    }
   ],
   "source": [
    "# from https://www.kaggle.com/qqgeogor/keras-lstm-attention-glove840b-lb-0-043/code\n",
    "from keras.engine.topology import Layer\n",
    "\n",
    "inp = Input(shape=(maxlen,), dtype='int32')\n",
    "embedding= embedding_layer(inp)\n",
    "x = Bidirectional(LSTM(32))(embedding)\n",
    "x = Dense(256, activation='relu')(x)\n",
    "outp = Dense(len(category_to_id), activation='softmax')(x)\n",
    "\n",
    "lstm = Model(inputs=inp, outputs=outp)\n",
    "lstm.compile(loss='categorical_crossentropy', optimizer='adam', metrics=['acc'])\n",
    "lstm.summary()\n",
    " "
   ]
  },
  {
   "cell_type": "code",
   "execution_count": 171,
   "metadata": {},
   "outputs": [
    {
     "name": "stdout",
     "output_type": "stream",
     "text": [
      "Epoch 1/20\n",
      "1204/1204 [==============================] - 19s 16ms/step - loss: 2.0042 - acc: 0.4594 - val_loss: 1.7231 - val_acc: 0.5149\n",
      "Epoch 2/20\n",
      "1204/1204 [==============================] - 19s 16ms/step - loss: 1.6496 - acc: 0.5330 - val_loss: 1.6358 - val_acc: 0.5362\n",
      "Epoch 3/20\n",
      "1204/1204 [==============================] - 19s 16ms/step - loss: 1.5536 - acc: 0.5554 - val_loss: 1.5790 - val_acc: 0.5501\n",
      "Epoch 4/20\n",
      "1204/1204 [==============================] - 19s 16ms/step - loss: 1.4904 - acc: 0.5704 - val_loss: 1.5476 - val_acc: 0.5588\n",
      "Epoch 5/20\n",
      "1204/1204 [==============================] - 19s 16ms/step - loss: 1.4426 - acc: 0.5813 - val_loss: 1.5275 - val_acc: 0.5629\n",
      "Epoch 6/20\n",
      "1204/1204 [==============================] - 19s 16ms/step - loss: 1.4017 - acc: 0.5910 - val_loss: 1.5162 - val_acc: 0.5651\n",
      "Epoch 7/20\n",
      "1204/1204 [==============================] - 19s 16ms/step - loss: 1.3692 - acc: 0.5999 - val_loss: 1.5085 - val_acc: 0.5670\n",
      "Epoch 8/20\n",
      "1204/1204 [==============================] - 19s 16ms/step - loss: 1.3370 - acc: 0.6076 - val_loss: 1.5057 - val_acc: 0.5668\n",
      "Epoch 9/20\n",
      "1204/1204 [==============================] - 19s 16ms/step - loss: 1.3105 - acc: 0.6150 - val_loss: 1.5149 - val_acc: 0.5691\n",
      "Epoch 10/20\n",
      "1204/1204 [==============================] - 19s 16ms/step - loss: 1.2865 - acc: 0.6194 - val_loss: 1.5037 - val_acc: 0.5719\n",
      "Epoch 11/20\n",
      "1204/1204 [==============================] - 19s 16ms/step - loss: 1.2647 - acc: 0.6259 - val_loss: 1.5150 - val_acc: 0.5715\n",
      "Epoch 12/20\n",
      "1204/1204 [==============================] - 19s 16ms/step - loss: 1.2435 - acc: 0.6308 - val_loss: 1.5229 - val_acc: 0.5664\n",
      "Epoch 13/20\n",
      "1204/1204 [==============================] - 19s 16ms/step - loss: 1.2245 - acc: 0.6345 - val_loss: 1.5279 - val_acc: 0.5663\n",
      "Epoch 14/20\n",
      "1204/1204 [==============================] - 19s 16ms/step - loss: 1.2059 - acc: 0.6400 - val_loss: 1.5380 - val_acc: 0.5626\n",
      "Epoch 15/20\n",
      "1204/1204 [==============================] - 19s 16ms/step - loss: 1.1883 - acc: 0.6441 - val_loss: 1.5481 - val_acc: 0.5633\n",
      "Epoch 16/20\n",
      "1204/1204 [==============================] - 19s 16ms/step - loss: 1.1706 - acc: 0.6490 - val_loss: 1.5615 - val_acc: 0.5603\n",
      "Epoch 17/20\n",
      "1204/1204 [==============================] - 19s 16ms/step - loss: 1.1552 - acc: 0.6524 - val_loss: 1.5665 - val_acc: 0.5596\n",
      "Epoch 18/20\n",
      "1204/1204 [==============================] - 19s 16ms/step - loss: 1.1399 - acc: 0.6568 - val_loss: 1.5659 - val_acc: 0.5612\n",
      "Epoch 19/20\n",
      "1204/1204 [==============================] - 19s 16ms/step - loss: 1.1254 - acc: 0.6611 - val_loss: 1.5861 - val_acc: 0.5632\n",
      "Epoch 20/20\n",
      "1204/1204 [==============================] - 19s 16ms/step - loss: 1.1112 - acc: 0.6633 - val_loss: 1.5943 - val_acc: 0.5577\n"
     ]
    }
   ],
   "source": [
    "lstm_history = lstm.fit(x_train, y_train, batch_size=128, epochs=20, validation_data=(x_val, y_val))"
   ]
  },
  {
   "cell_type": "code",
   "execution_count": 172,
   "metadata": {},
   "outputs": [
    {
     "data": {
      "image/png": "[encoded data removed]",
      "text/plain": [
       "<Figure size 432x288 with 1 Axes>"
      ]
     },
     "metadata": {
      "needs_background": "light"
     },
     "output_type": "display_data"
    },
    {
     "data": {
      "image/png": "[encoded data removed]",
      "text/plain": [
       "<Figure size 432x288 with 1 Axes>"
      ]
     },
     "metadata": {
      "needs_background": "light"
     },
     "output_type": "display_data"
    }
   ],
   "source": [
    "acc = lstm_history.history['acc']\n",
    "val_acc = lstm_history.history['val_acc']\n",
    "loss = lstm_history.history['loss']\n",
    "val_loss = lstm_history.history['val_loss']\n",
    "epochs = range(1, len(acc) + 1)\n",
    "\n",
    "plt.title('Training and validation accuracy')\n",
    "plt.plot(epochs, acc, 'red', label='Training acc')\n",
    "plt.plot(epochs, val_acc, 'blue', label='Validation acc')\n",
    "plt.legend()\n",
    "\n",
    "plt.figure()\n",
    "plt.title('Training and validation loss')\n",
    "plt.plot(epochs, loss, 'red', label='Training loss')\n",
    "plt.plot(epochs, val_loss, 'blue', label='Validation loss')\n",
    "plt.legend()\n",
    "\n",
    "plt.show()"
   ]
  },
  {
   "cell_type": "code",
   "execution_count": 173,
   "metadata": {},
   "outputs": [
    {
     "name": "stdout",
     "output_type": "stream",
     "text": [
      "149/149 [==============================] - 1s 6ms/step - loss: 1.5936 - acc: 0.5636\n"
     ]
    }
   ],
   "source": [
    "acc_lstm = lstm.evaluate(x_test, y_test,batch_size=128)"
   ]
  },
  {
   "cell_type": "code",
   "execution_count": 174,
   "metadata": {},
   "outputs": [
    {
     "name": "stdout",
     "output_type": "stream",
     "text": [
      "model TextCNN accuracy:          0.566120\n",
      "model lstm:                      0.563650\n"
     ]
    }
   ],
   "source": [
    "def evaluate_accuracy(model):\n",
    "    predicted = model.predict(x_test)\n",
    "    diff = y_test.argmax(axis=-1) - predicted.argmax(axis=-1)\n",
    "    corrects = np.where(diff == 0)[0].shape[0]\n",
    "    total = y_test.shape[0]\n",
    "    return float(corrects/total)\n",
    "\n",
    "print(\"model TextCNN accuracy:          %.6f\" % evaluate_accuracy(TextCNN))\n",
    "print(\"model lstm:                      %.6f\" % evaluate_accuracy(lstm))"
   ]
  },
  {
   "cell_type": "code",
   "execution_count": null,
   "metadata": {},
   "outputs": [],
   "source": []
  }
 ],
 "metadata": {
  "kernelspec": {
   "display_name": "Python 3",
   "language": "python",
   "name": "python3"
  },
  "language_info": {
   "codemirror_mode": {
    "name": "ipython",
    "version": 3
   },
   "file_extension": ".py",
   "mimetype": "text/x-python",
   "name": "python",
   "nbconvert_exporter": "python",
   "pygments_lexer": "ipython3",
   "version": "3.7.3"
  }
 },
 "nbformat": 4,
 "nbformat_minor": 2
}
